{
 "cells": [
  {
   "cell_type": "code",
   "execution_count": 1,
   "id": "b849fdaf",
   "metadata": {},
   "outputs": [],
   "source": [
    "#Imports\n",
    "#%pip install ipython\n",
    "import pandas as pd\n",
    "import numpy as np\n",
    "import random \n",
    "import matplotlib.pyplot as plt\n",
    "from IPython.display import display\n",
    "\n",
    "#Limits\n",
    "NumStudents = 150\n",
    "MaxMark = 130\n",
    "MaxTimeMin = 180\n",
    "\n",
    "#categories\n",
    "AGE_GROUPS = ['18-25', '25-35', '35-45', 'over 45']\n",
    "STUDY_HOURS = ['1-2', '2-3', '4-5']\n",
    "\n",
    "#Generating random sample data\n",
    "\n",
    "#Student Number\n",
    "student_numbers = np.arange(1, NumStudents + 1)\n",
    "\n",
    "#Student Age Group (Within catogories)\n",
    "age_groups = random.choices(AGE_GROUPS, k=NumStudents)\n",
    "\n",
    "#Average Hours Spent (Within catogories)\n",
    "study_hours = random.choices(STUDY_HOURS, k=NumStudents)\n",
    "\n",
    "#call twice to make sure Exam 1 and Exam 2 have independent results\n",
    "def generate_exam_data(NumStudents, MaxMark, max_time):\n",
    "    \"\"\"Generates raw marks and time taken for a single exam.\"\"\"\n",
    "    \n",
    "    raw_marks = np.random.randint(0, MaxMark + 1, size=NumStudents)\n",
    "    \n",
    "    #Time Taken (from 0 to maxtime)\n",
    "    time_taken = np.random.randint(20, max_time + 1, size=NumStudents) # Started at 20 min to be a bit more realistic\n",
    "    \n",
    "    return raw_marks, time_taken\n",
    "\n",
    "#Generate data for Exam 1\n",
    "exam1_marks, exam1_time = generate_exam_data(NumStudents, MaxMark, MaxTimeMin)\n",
    "\n",
    "#Generate data for Exam 2\n",
    "exam2_marks, exam2_time = generate_exam_data(NumStudents, MaxMark, MaxTimeMin)"
   ]
  },
  {
   "cell_type": "code",
   "execution_count": 2,
   "id": "2dc2044a",
   "metadata": {},
   "outputs": [],
   "source": [
    "#Create DataFrame for Exam 1\n",
    "data_exam1 = {\n",
    "    'studentNumber': student_numbers,\n",
    "    'studentAgeGroup': age_groups,\n",
    "    'avgHoursSpentStudyingOnCampus': study_hours,\n",
    "    'studentMark_Raw': exam1_marks,\n",
    "    'timeTakenOnExamination_minutes': exam1_time\n",
    "}\n",
    "\n",
    "df_exam1 = pd.DataFrame(data_exam1)\n",
    "df_exam1 = df_exam1.set_index('studentNumber') #Tells pandas to use student number as the index\n",
    "\n",
    "#Create DataFrame for Exam 2\n",
    "data_exam2 = {\n",
    "    'studentNumber': student_numbers,\n",
    "    'studentAgeGroup': age_groups,\n",
    "    'avgHoursSpentStudyingOnCampus': study_hours,\n",
    "    'studentMark_Raw': exam2_marks,\n",
    "    'timeTakenOnExamination_minutes': exam2_time\n",
    "}\n",
    "\n",
    "df_exam2 = pd.DataFrame(data_exam2)\n",
    "df_exam2 = df_exam2.set_index('studentNumber') #Tells pandas to use student number as the index\n",
    "\n",
    "#Calculate Percentage for both \n",
    "#Adding column 'studentMark_Percentage'\n",
    "df_exam1['studentMark_Percentage'] = (df_exam1['studentMark_Raw'] / MaxMark) * 100\n",
    "df_exam2['studentMark_Percentage'] = (df_exam2['studentMark_Raw'] / MaxMark) * 100\n",
    "\n",
    "#Rounding\n",
    "df_exam1['studentMark_Percentage'] = df_exam1['studentMark_Percentage'].round(2)\n",
    "df_exam2['studentMark_Percentage'] = df_exam2['studentMark_Percentage'].round(2)\n",
    "\n",
    "# Set names for the print messages\n",
    "df_exam1.name = \"df_exam1\"\n",
    "df_exam2.name = \"df_exam2\""
   ]
  },
  {
   "cell_type": "code",
   "execution_count": 3,
   "id": "f2725f6e",
   "metadata": {},
   "outputs": [
    {
     "name": "stdout",
     "output_type": "stream",
     "text": [
      "First 5 rows of Exam 1\n"
     ]
    },
    {
     "data": {
      "text/html": [
       "<div>\n",
       "<style scoped>\n",
       "    .dataframe tbody tr th:only-of-type {\n",
       "        vertical-align: middle;\n",
       "    }\n",
       "\n",
       "    .dataframe tbody tr th {\n",
       "        vertical-align: top;\n",
       "    }\n",
       "\n",
       "    .dataframe thead th {\n",
       "        text-align: right;\n",
       "    }\n",
       "</style>\n",
       "<table border=\"1\" class=\"dataframe\">\n",
       "  <thead>\n",
       "    <tr style=\"text-align: right;\">\n",
       "      <th></th>\n",
       "      <th>studentAgeGroup</th>\n",
       "      <th>avgHoursSpentStudyingOnCampus</th>\n",
       "      <th>studentMark_Raw</th>\n",
       "      <th>timeTakenOnExamination_minutes</th>\n",
       "      <th>studentMark_Percentage</th>\n",
       "    </tr>\n",
       "    <tr>\n",
       "      <th>studentNumber</th>\n",
       "      <th></th>\n",
       "      <th></th>\n",
       "      <th></th>\n",
       "      <th></th>\n",
       "      <th></th>\n",
       "    </tr>\n",
       "  </thead>\n",
       "  <tbody>\n",
       "    <tr>\n",
       "      <th>1</th>\n",
       "      <td>18-25</td>\n",
       "      <td>1-2</td>\n",
       "      <td>96</td>\n",
       "      <td>147</td>\n",
       "      <td>73.85</td>\n",
       "    </tr>\n",
       "    <tr>\n",
       "      <th>2</th>\n",
       "      <td>18-25</td>\n",
       "      <td>1-2</td>\n",
       "      <td>97</td>\n",
       "      <td>73</td>\n",
       "      <td>74.62</td>\n",
       "    </tr>\n",
       "    <tr>\n",
       "      <th>3</th>\n",
       "      <td>35-45</td>\n",
       "      <td>4-5</td>\n",
       "      <td>66</td>\n",
       "      <td>37</td>\n",
       "      <td>50.77</td>\n",
       "    </tr>\n",
       "    <tr>\n",
       "      <th>4</th>\n",
       "      <td>over 45</td>\n",
       "      <td>1-2</td>\n",
       "      <td>68</td>\n",
       "      <td>47</td>\n",
       "      <td>52.31</td>\n",
       "    </tr>\n",
       "    <tr>\n",
       "      <th>5</th>\n",
       "      <td>35-45</td>\n",
       "      <td>1-2</td>\n",
       "      <td>56</td>\n",
       "      <td>168</td>\n",
       "      <td>43.08</td>\n",
       "    </tr>\n",
       "  </tbody>\n",
       "</table>\n",
       "</div>"
      ],
      "text/plain": [
       "              studentAgeGroup avgHoursSpentStudyingOnCampus  studentMark_Raw  \\\n",
       "studentNumber                                                                  \n",
       "1                       18-25                           1-2               96   \n",
       "2                       18-25                           1-2               97   \n",
       "3                       35-45                           4-5               66   \n",
       "4                     over 45                           1-2               68   \n",
       "5                       35-45                           1-2               56   \n",
       "\n",
       "               timeTakenOnExamination_minutes  studentMark_Percentage  \n",
       "studentNumber                                                          \n",
       "1                                         147                   73.85  \n",
       "2                                          73                   74.62  \n",
       "3                                          37                   50.77  \n",
       "4                                          47                   52.31  \n",
       "5                                         168                   43.08  "
      ]
     },
     "metadata": {},
     "output_type": "display_data"
    },
    {
     "name": "stdout",
     "output_type": "stream",
     "text": [
      "\n",
      "\n"
     ]
    }
   ],
   "source": [
    "# Display\n",
    "print(\"First 5 rows of Exam 1\")\n",
    "display(df_exam1.head(5))\n",
    "print(\"\\n\")"
   ]
  },
  {
   "cell_type": "code",
   "execution_count": 4,
   "id": "513e0019",
   "metadata": {},
   "outputs": [
    {
     "name": "stdout",
     "output_type": "stream",
     "text": [
      "First 5 rows of Exam 2\n"
     ]
    },
    {
     "data": {
      "text/html": [
       "<div>\n",
       "<style scoped>\n",
       "    .dataframe tbody tr th:only-of-type {\n",
       "        vertical-align: middle;\n",
       "    }\n",
       "\n",
       "    .dataframe tbody tr th {\n",
       "        vertical-align: top;\n",
       "    }\n",
       "\n",
       "    .dataframe thead th {\n",
       "        text-align: right;\n",
       "    }\n",
       "</style>\n",
       "<table border=\"1\" class=\"dataframe\">\n",
       "  <thead>\n",
       "    <tr style=\"text-align: right;\">\n",
       "      <th></th>\n",
       "      <th>studentAgeGroup</th>\n",
       "      <th>avgHoursSpentStudyingOnCampus</th>\n",
       "      <th>studentMark_Raw</th>\n",
       "      <th>timeTakenOnExamination_minutes</th>\n",
       "      <th>studentMark_Percentage</th>\n",
       "    </tr>\n",
       "    <tr>\n",
       "      <th>studentNumber</th>\n",
       "      <th></th>\n",
       "      <th></th>\n",
       "      <th></th>\n",
       "      <th></th>\n",
       "      <th></th>\n",
       "    </tr>\n",
       "  </thead>\n",
       "  <tbody>\n",
       "    <tr>\n",
       "      <th>1</th>\n",
       "      <td>18-25</td>\n",
       "      <td>1-2</td>\n",
       "      <td>14</td>\n",
       "      <td>165</td>\n",
       "      <td>10.77</td>\n",
       "    </tr>\n",
       "    <tr>\n",
       "      <th>2</th>\n",
       "      <td>18-25</td>\n",
       "      <td>1-2</td>\n",
       "      <td>9</td>\n",
       "      <td>20</td>\n",
       "      <td>6.92</td>\n",
       "    </tr>\n",
       "    <tr>\n",
       "      <th>3</th>\n",
       "      <td>35-45</td>\n",
       "      <td>4-5</td>\n",
       "      <td>28</td>\n",
       "      <td>23</td>\n",
       "      <td>21.54</td>\n",
       "    </tr>\n",
       "    <tr>\n",
       "      <th>4</th>\n",
       "      <td>over 45</td>\n",
       "      <td>1-2</td>\n",
       "      <td>104</td>\n",
       "      <td>21</td>\n",
       "      <td>80.00</td>\n",
       "    </tr>\n",
       "    <tr>\n",
       "      <th>5</th>\n",
       "      <td>35-45</td>\n",
       "      <td>1-2</td>\n",
       "      <td>99</td>\n",
       "      <td>88</td>\n",
       "      <td>76.15</td>\n",
       "    </tr>\n",
       "  </tbody>\n",
       "</table>\n",
       "</div>"
      ],
      "text/plain": [
       "              studentAgeGroup avgHoursSpentStudyingOnCampus  studentMark_Raw  \\\n",
       "studentNumber                                                                  \n",
       "1                       18-25                           1-2               14   \n",
       "2                       18-25                           1-2                9   \n",
       "3                       35-45                           4-5               28   \n",
       "4                     over 45                           1-2              104   \n",
       "5                       35-45                           1-2               99   \n",
       "\n",
       "               timeTakenOnExamination_minutes  studentMark_Percentage  \n",
       "studentNumber                                                          \n",
       "1                                         165                   10.77  \n",
       "2                                          20                    6.92  \n",
       "3                                          23                   21.54  \n",
       "4                                          21                   80.00  \n",
       "5                                          88                   76.15  "
      ]
     },
     "metadata": {},
     "output_type": "display_data"
    },
    {
     "name": "stdout",
     "output_type": "stream",
     "text": [
      "\n",
      "\n"
     ]
    }
   ],
   "source": [
    "print(\"First 5 rows of Exam 2\")\n",
    "display(df_exam2.head(5))\n",
    "print(\"\\n\")"
   ]
  },
  {
   "cell_type": "code",
   "execution_count": 5,
   "id": "e26ca5dc",
   "metadata": {},
   "outputs": [
    {
     "name": "stdout",
     "output_type": "stream",
     "text": [
      "Successfully saved two CSV files:\n",
      "examination_data_exam1.csv\n",
      "examination_data_exam2.csv\n"
     ]
    }
   ],
   "source": [
    "#Export DataFrames to CSV\n",
    "# Using index=True here to include the studentNumber column, as it's the index now\n",
    "df_exam1.to_csv('examination_data_exam1.csv') \n",
    "df_exam2.to_csv('examination_data_exam2.csv')\n",
    "\n",
    "print(\"Successfully saved two CSV files:\")\n",
    "print(\"examination_data_exam1.csv\")\n",
    "print(\"examination_data_exam2.csv\")"
   ]
  },
  {
   "cell_type": "code",
   "execution_count": 6,
   "id": "6e324d1e",
   "metadata": {},
   "outputs": [
    {
     "name": "stdout",
     "output_type": "stream",
     "text": [
      "--- Frequency Table for Student Age Groups (Exam 1) ---\n"
     ]
    },
    {
     "data": {
      "text/plain": [
       "studentAgeGroup\n",
       "25-35      40\n",
       "35-45      39\n",
       "18-25      36\n",
       "over 45    35\n",
       "Name: count, dtype: int64"
      ]
     },
     "metadata": {},
     "output_type": "display_data"
    },
    {
     "name": "stdout",
     "output_type": "stream",
     "text": [
      "\n",
      "\n",
      "--- Frequency Table for Avg Study Hours (Exam 1) ---\n"
     ]
    },
    {
     "data": {
      "text/plain": [
       "avgHoursSpentStudyingOnCampus\n",
       "2-3    56\n",
       "1-2    50\n",
       "4-5    44\n",
       "Name: count, dtype: int64"
      ]
     },
     "metadata": {},
     "output_type": "display_data"
    },
    {
     "name": "stdout",
     "output_type": "stream",
     "text": [
      "\n",
      "\n",
      "--- Frequency Table for Student Marks (Exam 1) ---\n"
     ]
    },
    {
     "data": {
      "text/plain": [
       "markCategory\n",
       "Fail (0-49)    70\n",
       "D (50-59)      23\n",
       "C (60-69)       9\n",
       "B (70-79)      15\n",
       "A (80-100)     33\n",
       "Name: count, dtype: int64"
      ]
     },
     "metadata": {},
     "output_type": "display_data"
    },
    {
     "name": "stdout",
     "output_type": "stream",
     "text": [
      "\n",
      "\n"
     ]
    }
   ],
   "source": [
    "# Question 2: Create frequency tables\n",
    "\n",
    "print(\"--- Frequency Table for Student Age Groups (Exam 1) ---\")\n",
    "age_freq_exam1 = df_exam1['studentAgeGroup'].value_counts()\n",
    "display(age_freq_exam1)\n",
    "print(\"\\n\")\n",
    "\n",
    "print(\"--- Frequency Table for Avg Study Hours (Exam 1) ---\")\n",
    "hours_freq_exam1 = df_exam1['avgHoursSpentStudyingOnCampus'].value_counts()\n",
    "display(hours_freq_exam1)\n",
    "print(\"\\n\")\n",
    "\n",
    "#grade boundaries and labels for the marks.\n",
    "mark_ranges = [0, 49.99, 59.99, 69.99, 79.99, 100]\n",
    "mark_labels = [\n",
    "    'Fail (0-49)', \n",
    "    'D (50-59)', \n",
    "    'C (60-69)', \n",
    "    'B (70-79)', \n",
    "    'A (80-100)'\n",
    "]\n",
    "\n",
    "#new temporary column containing the mark categories for each\n",
    "df_exam1['markCategory'] = pd.cut(df_exam1['studentMark_Percentage'], bins=mark_ranges, labels=mark_labels, include_lowest=True)\n",
    "\n",
    "print(\"--- Frequency Table for Student Marks (Exam 1) ---\")\n",
    "mark_freq_exam1 = df_exam1['markCategory'].value_counts().sort_index() #order and count grade\n",
    "display(mark_freq_exam1)\n",
    "print(\"\\n\")"
   ]
  },
  {
   "cell_type": "code",
   "execution_count": 7,
   "id": "c24d44aa",
   "metadata": {},
   "outputs": [
    {
     "data": {
      "text/plain": [
       "<Figure size 1000x600 with 0 Axes>"
      ]
     },
     "metadata": {},
     "output_type": "display_data"
    }
   ],
   "source": [
    "#Question 2 - graphs \n",
    "#Bar Chart: Ages and Number of Students\n",
    "#count\n",
    "age_counts = df_exam1['studentAgeGroup'].value_counts()\n",
    "\n",
    "#Define catogories\n",
    "age_order = ['18-25', '25-35', '35-45', 'over 45']\n",
    "age_counts = age_counts.reindex(age_order)\n",
    "\n",
    "#Creating the chart\n",
    "plt.figure(figsize=(10, 6))\n",
    "plt.bar(age_counts.index, age_counts.values, color='skyblue')\n",
    "\n",
    "#Adding title and label\n",
    "plt.title('Number of Students in Each Age Group')\n",
    "plt.xlabel('Age Group')\n",
    "plt.ylabel('Number of Students')\n",
    "\n",
    "#Grid linees\n",
    "plt.grid(axis='y', linestyle='--', alpha=0.7)\n",
    "\n",
    "#Save chart\n",
    "plt.savefig('age_distribution_bar_chart.png')\n",
    "\n",
    "#Clear plt\n",
    "plt.clf()"
   ]
  },
  {
   "cell_type": "code",
   "execution_count": 8,
   "id": "c274e246",
   "metadata": {},
   "outputs": [
    {
     "data": {
      "text/plain": [
       "<Figure size 1000x600 with 0 Axes>"
      ]
     },
     "metadata": {},
     "output_type": "display_data"
    }
   ],
   "source": [
    "#Line graph\n",
    "#group the DataFrame by avgHoursSpentStudyingOnCampus\n",
    "#calculate average studentMark_Percentage \n",
    "correlation_data = df_exam1.groupby('avgHoursSpentStudyingOnCampus')['studentMark_Percentage'].mean()\n",
    "\n",
    "#Sort data\n",
    "correlation_data = correlation_data.sort_index()\n",
    "\n",
    "#Creating the chart\n",
    "plt.figure(figsize=(10, 6))\n",
    "#The line style\n",
    "plt.plot(correlation_data.index, correlation_data.values, marker='o', linestyle='-', color='green')\n",
    "\n",
    "#Adding title and label\n",
    "plt.title('Correlation Between Study Hours and Exam Marks')\n",
    "plt.xlabel('Average Hours Spent Studying on Campus')\n",
    "plt.ylabel('Average Student Mark (%)')\n",
    "plt.grid(True)\n",
    "plt.savefig('marks_vs_study_hours_line_graph.png')\n",
    "plt.clf()"
   ]
  },
  {
   "cell_type": "code",
   "execution_count": 9,
   "id": "d24c4ac3",
   "metadata": {},
   "outputs": [
    {
     "data": {
      "text/plain": [
       "<Figure size 1000x600 with 0 Axes>"
      ]
     },
     "metadata": {},
     "output_type": "display_data"
    }
   ],
   "source": [
    "#Scatter Chart\n",
    "plt.figure(figsize=(10, 6))\n",
    "plt.scatter(df_exam1['timeTakenOnExamination_minutes'], df_exam1['studentMark_Percentage'], alpha=0.5, color='purple')\n",
    "\n",
    "plt.title('Student Mark vs. Time Taken on Examination')\n",
    "plt.xlabel('Time Taken on Examination (minutes)')\n",
    "plt.ylabel('Student Mark (%)')\n",
    "plt.grid(True)\n",
    "plt.savefig('mark_vs_time_taken_scatter.png')\n",
    "plt.clf()"
   ]
  },
  {
   "cell_type": "code",
   "execution_count": 10,
   "id": "44865957",
   "metadata": {},
   "outputs": [
    {
     "data": {
      "text/plain": [
       "<Figure size 1000x600 with 0 Axes>"
      ]
     },
     "metadata": {},
     "output_type": "display_data"
    }
   ],
   "source": [
    "#Scatter chart\n",
    "plt.figure(figsize=(10, 6))\n",
    "\n",
    "plt.scatter(df_exam1['studentAgeGroup'], df_exam1['avgHoursSpentStudyingOnCampus'], alpha=0.5, color='orange')\n",
    "\n",
    "plt.title('Time Spent on Campus vs. Student Age Group')\n",
    "plt.xlabel('Student Age Group')\n",
    "plt.ylabel('Average Hours Spent Studying on Campus')\n",
    "plt.grid(True)\n",
    "plt.savefig('campus_time_vs_age_scatter.png')\n",
    "plt.clf()"
   ]
  }
 ],
 "metadata": {
  "kernelspec": {
   "display_name": "base",
   "language": "python",
   "name": "python3"
  },
  "language_info": {
   "codemirror_mode": {
    "name": "ipython",
    "version": 3
   },
   "file_extension": ".py",
   "mimetype": "text/x-python",
   "name": "python",
   "nbconvert_exporter": "python",
   "pygments_lexer": "ipython3",
   "version": "3.13.5"
  }
 },
 "nbformat": 4,
 "nbformat_minor": 5
}
